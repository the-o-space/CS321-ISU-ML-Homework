{
  "cells": [
    {
      "cell_type": "markdown",
      "metadata": {
        "id": "Z-Wk6WLmzTZG"
      },
      "source": [
        "Course: **Machine Learning**\n",
        "\n",
        "\n",
        "Title: **Homework 4**\n",
        "\n",
        "\n",
        "Homework will be evaluated maximum by **4 points**.\n",
        "<br>\n",
        "Each problem is **one point**."
      ]
    },
    {
      "cell_type": "markdown",
      "metadata": {
        "id": "OhLetRoCzTZM"
      },
      "source": [
        "<h3 align=\"center\">Problem 1: Kernel Validation</h3>\n",
        "\n",
        "- Check if the following function is a **valid kernel** or not:\n",
        "\n",
        "  $$k(x, x') = x_1 + x_2$$\n",
        "\n",
        "  where $x, x' \\in \\mathbb{R}^2$ and $x = \\begin{bmatrix} x_1\\\\ x_2\\end{bmatrix}$ and $x' = \\begin{bmatrix} x_1' \\\\ x_2'\\end{bmatrix}$.\n",
        "  "
      ]
    },
    {
      "cell_type": "markdown",
      "metadata": {
        "id": "-HmE-J5kzTZN"
      },
      "source": [
        "<h3 align=\"center\">Problem 2: Maximum Margin Classifier</h3>\n",
        "\n",
        "- Given the **binary dataset**:\n",
        "\n",
        " $$Class(-1):\n",
        " \\begin{bmatrix}\n",
        " 1 & 1\\\\\n",
        " 3 & 5\\\\\n",
        " 5 & 3\n",
        " \\end{bmatrix} \\text{ and }\n",
        " Class(+1):\n",
        " \\begin{bmatrix}\n",
        " 6 & 4\\\\\n",
        " 7 & 7\\\\\n",
        " 9 & 3\n",
        " \\end{bmatrix}.$$\n",
        "\n",
        "- Using the linear **SVM** classifier with **maximum margin**:\n",
        "\n",
        "  1. **Plot the data points** on the $(X,Y)$ coordinate plane;\n",
        "\n",
        "  2. **Sketch** the **support vectors**.\n",
        "  \n",
        "  3. **Find** the **decision boundary** equation."
      ]
    },
    {
      "cell_type": "markdown",
      "metadata": {
        "id": "Y7zA-VwEzTZO"
      },
      "source": [
        "<h3 align=\"center\">Problem 3: SVM Classifiers in the Iris Dataset</h3>\n",
        "\n",
        "- Write the **Python** code that compares different linear **SVM classifiers** of the **Iris dataset**.\n",
        "\n",
        "\n",
        "- To do this, follow these steps:\n",
        "\n",
        "  1. Consider the **first 2 features** of this dataset: **sepal length** and **sepal width**.\n",
        "  \n",
        "  2. Load the Iris dataset using the `datasets` module of `sklearn` library.\n",
        "  \n",
        "  3. Using the `svm` module of `sklearn` library, **train** the next **four classifiers**:\n",
        "     - `SVC` with **linear** kernel and SVM regularization parameter **C = 1**;\n",
        "     - `SVC` with **polynomial** kernel with number of **degrees = 3**, with kernel coefficient **gamma = auto**  and with egularization parameter **C = 1**;\n",
        "     - `SVC` with **radial basis function** kernel with kernel coefficient **gamma = 0.7** and SVM regularization parameter **C = 1**;\n",
        "     - `LinearSVC` with **maximum number of iterations = 10000** and SVM regularization parameter **C = 1**;\n",
        "     \n",
        "  4. **Fit** the result and **plot** the decision boundaries.\n",
        "  \n",
        "  5. **Which one** gives the best separation?"
      ]
    },
    {
      "cell_type": "markdown",
      "metadata": {
        "id": "jDKAnhAizTZO"
      },
      "source": [
        "<h3 align=\"center\">Problem 4: Hierarchical Clustering</h3>\n",
        "\n",
        "- Given a collection of **data points** as shown below:\n",
        "\n",
        "  <center><img src=\"https://drive.google.com/uc?export=view&id=1-r0Oksltwwz_yhJE9UccJIaHEsRN3YKL\" width=\"600\" alt=\"Example\" /></center>\n",
        "\n",
        "- Write the **Python** code that applies **hierarchical clustering algorithm** by following these steps:\n",
        "\n",
        "  1. For the given points build the **distance matrix**.\n",
        "  \n",
        "  2. Use **Euclidean distance** as the **distance metric** between the two clusters.\n",
        "  \n",
        "  3. Use the **Nearest Points algorithm**  as the **linkage criteria**.\n",
        "  \n",
        "  4. Using the **distance matrix** (obligatory) **build** the corresponding **deondogram**."
      ]
    },
    {
      "cell_type": "markdown",
      "metadata": {
        "id": "sU4kvjcCzTZO"
      },
      "source": [
        "<h3 align=\"center\">Extra Problem 1: K-Means Clustering</h3>\n",
        "\n",
        "- Lets assume that our **input space** consist of **data points** $\\mathbf{x}_1, \\mathbf{x}_2, ..., \\mathbf{x}_N$, where $\\mathbf{x}_n = (x_n, y_n) \\in \\mathbb{R}^2$ for $n = 1, ..., N$.\n",
        "\n",
        "- **Number of Clusters** is equal to $K = 2$.\n",
        "\n",
        "- **Each student has his own data set** represented in the tables below (the **initial center of the clusters are also included**):\n",
        "\n",
        "\n",
        "\n",
        "| **Gochitashvili Tamaz** | $x$ | $y$ |\n",
        "|:-----------------------:|:---:|:---:|\n",
        "| $\\mathbf{x}_1$          |  1  |  1  |\n",
        "| $\\mathbf{x}_2$          |  1  |  2  |\n",
        "| $\\mathbf{x}_3$          |  2  |  1  |\n",
        "| $\\mathbf{x}_4$          |  2  |  3  |\n",
        "| $\\mathbf{x}_5$          |  3  |  2  |\n",
        "| $\\mathbf{x}_6$          |  3  |  3  |\n",
        "| $\\mu_1$                 |  1  |  1  |\n",
        "| $\\mu_2$                 |  3  |  2  |\n",
        "\n",
        "\n",
        "\n",
        "- **Problem Statement**:\n",
        "  1. **Plot the data points** on the $(X,Y)$ coordinate plane;\n",
        "  2. **Calculate the distance** between the **each data point** and the centers of **each clusters**;\n",
        "  3. **Assign** each **data point** to the corresponding **cluster**;\n",
        "  4. **Recalculate** the **new centers locations** of the **clusters**;\n",
        "  5. **Repeat steps 2 and 4** until the **algorithm converges**."
      ]
    },
    {
      "cell_type": "markdown",
      "metadata": {
        "id": "DxekJW-IzTZO"
      },
      "source": [
        "<h3 align=\"center\">Extra Problem 2: Color Quantization</h3>\n",
        "\n",
        "- Write the **Python** code that **quantize** a color image using the $k$-means clustering algorithm following these steps:\n",
        "\n",
        "  1. **Implement** the k-means algorithm.\n",
        "\n",
        "  2. **Load an image** of your choice, treat each pixel as an individual 3-dimensional data point\n",
        "\n",
        "  3. **Cluster** into k clusters (use low-resolution images to avoid long computation times).\n",
        "\n",
        "  4. **Assign** each pixel the color value of its nearest cluster center.\n",
        "  \n",
        "  5. **Visualize** the result."
      ]
    }
  ],
  "metadata": {
    "celltoolbar": "Slideshow",
    "colab": {
      "provenance": []
    },
    "kernelspec": {
      "display_name": "Python 3",
      "language": "python",
      "name": "python3"
    },
    "language_info": {
      "codemirror_mode": {
        "name": "ipython",
        "version": 3
      },
      "file_extension": ".py",
      "mimetype": "text/x-python",
      "name": "python",
      "nbconvert_exporter": "python",
      "pygments_lexer": "ipython3",
      "version": "3.7.3"
    }
  },
  "nbformat": 4,
  "nbformat_minor": 0
}
