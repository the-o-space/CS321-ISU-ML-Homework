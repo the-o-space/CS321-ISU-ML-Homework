{
  "cells": [
    {
      "cell_type": "markdown",
      "metadata": {
        "id": "_k4CxXaKTM4A"
      },
      "source": [
        "Course: **Machine Learning**\n",
        "\n",
        "\n",
        "Title: **Homework 3**\n",
        "\n",
        "\n",
        "Homework will be evaluated maximum by **4 points**.\n",
        "<br>\n",
        "Each problem is **one point**."
      ]
    },
    {
      "cell_type": "markdown",
      "metadata": {
        "id": "9NrqeYgOTM4I"
      },
      "source": [
        "- For this Homework you can use the following <a href=\"https://victorzhou.com/blog/intro-to-neural-networks/\">materials</a>.\n",
        "\n",
        "\n",
        "- The parameters and structure of NN are here for practice only and have nothing to do with actual computation!"
      ]
    },
    {
      "cell_type": "markdown",
      "metadata": {
        "id": "sLg8SR0ITM4K"
      },
      "source": [
        "<h3 align=\"center\">Problem 1: Building Neuron</h3>\n",
        "\n",
        "- Lets assume we have a **3-input neuron** that uses the **Hyperbolic Tangent** activation function and has the following **parameters**:\n",
        "\n",
        "$$\\mathbf{w}= \\begin{vmatrix}\n",
        "1 \\\\ -2 \\\\ 3\n",
        "\\end{vmatrix}\n",
        "\\text{ and }\n",
        "b = -\\pi.$$\n",
        "\n",
        "<img src=\"https://drive.google.com/uc?export=view&id=1r-YoSat2ujy50WKeLDwur6AIZrwd8s04\" width=\"600\" alt=\"Example\" />\n",
        "\n",
        "\n",
        "1. **Pass** the inputs $\\mathbf{x} = [-2, 1, -1]$ forward to get an output $y$. **Express** the entire chain of calculations!\n",
        "\n",
        "\n",
        "2. **Write** a corresponding **Python** code. The **corresponding function** defined on the Lecture should be used!\n",
        "\n",
        "<br>\n",
        "<br>"
      ]
    },
    {
      "cell_type": "markdown",
      "metadata": {
        "id": "NN-o_fNrTM4L"
      },
      "source": [
        "<h3 align=\"center\">Problem 2: Combining Neurons into a Neural Network</h3>\n",
        "\n",
        "- Let’s use the network defined in **Problem 1** and assume all neurons have the same weights:\n",
        "\n",
        "  $$\\mathbf{w}= \\begin{vmatrix}\n",
        "1 \\\\ -2 \\\\ 3\n",
        "\\end{vmatrix},$$\n",
        "\n",
        "(matrix is [1, -2, 3])\n",
        "\n",
        "  the same bias:\n",
        "\n",
        "  $$b = -\\pi,$$\n",
        "\n",
        "  and the same **Hyperbolic Tangent** activation function.\n",
        "\n",
        "\n",
        "<img src=\"https://drive.google.com/uc?export=view&id=1MuzWhoR94TPm4HNgE_bewqdzBEUsWTs8\" width=\"390\" alt=\"Example\" />\n",
        "\n",
        "\n",
        "1. **Pass** the inputs $\\mathbf{x} = [-2, 1, -1]$ forward to get an output $y$. **Express** the entire chain of calculations!\n",
        "\n",
        "\n",
        "2. **Write** a corresponding **Python** code. The **corresponding function** defined on the Lecture should be used!\n"
      ]
    },
    {
      "cell_type": "markdown",
      "metadata": {
        "id": "8Hs4EMO_TM4N"
      },
      "source": [
        "<h3 align=\"center\">Problem 3: Combining Neurons into a Neural Network</h3>\n",
        "\n",
        "- Let's assume we have the following measurements:\n",
        "\n",
        "|   Name  | Age | Weight | Height | Gender |\n",
        "|:-------:|:---:|:------:|:------:|:------:|\n",
        "|  Alice  |  24 |   168  |   59   |    1   |\n",
        "|   Bob   |  29 |   195  |   72   |    0   |\n",
        "| Charlie |  31 |   187  |   78   |    0   |\n",
        "|  Diana  |  26 |   155  |   54   |    1   |\n",
        "\n",
        "- Now, let’s assuem that our loss function is **Mean Squared Error** (**MSE**):\n",
        "\n",
        "  $$L = \\frac{1}{n} \\sum_{i=1}^{n} (y_{true} - y_{pred})^2$$\n",
        "  \n",
        "  \n",
        "- **Write** a corresponding **Python** code and calculate the **values** for the **loss function** $L$ for a given measurements.\n",
        "\n",
        "- **Note**: You must use the same **weight** and **bias parameters** as for **Problem 1**."
      ]
    },
    {
      "cell_type": "markdown",
      "metadata": {
        "id": "tNRGpmMCTM4P"
      },
      "source": [
        "<h3 align=\"center\">Problem 4: Calculating the Partial Derivative</h3>\n",
        "\n",
        "- Let’s pretend we only have Alice in our dataset:\n",
        "\n",
        "|   Name  | Age | Weight | Height | Gender |\n",
        "|:-------:|:---:|:------:|:------:|:------:|\n",
        "|  Alice  |  24 |   168  |   59   |    1   |\n",
        "\n",
        "\n",
        "- Using **backwards propagation**, **write** a corresponding **Python** code and calculate the **partial derivatives** $\\frac{\\partial L}{\\partial w_1}$, $\\frac{\\partial L}{\\partial w_2}$,  $\\frac{\\partial L}{\\partial w_3}$, $\\frac{\\partial L}{\\partial b}$.\n",
        "\n",
        "\n",
        "- **Note**: You must use the same **initial** values **weight** and **bias parameters** as for **Problem 1**!"
      ]
    },
    {
      "cell_type": "markdown",
      "metadata": {
        "id": "7SSx5KTdTM4Q"
      },
      "source": [
        "<h3 align=\"center\">Extra Problem: Training a Neural Network</h3>\n",
        "\n",
        "- Let's now try to **train** your Neural Network by peforming next **steps**:\n",
        "\n",
        "  - Choose **one sample** from our dataset. This is what makes it **stochastic gradient descent** - we only operate on one sample at a time.\n",
        "\n",
        "  - Calculate all the partial derivatives of loss with respect to weights or biases, e.g. $\\frac{\\partial L}{\\partial w_1}$, $\\frac{\\partial L}{\\partial w_2}$,  $\\frac{\\partial L}{\\partial w_3}$, $\\frac{\\partial L}{\\partial b}$\n",
        "\n",
        "  - Use the update equation to **update** each weight and bias.\n",
        "\n",
        "  - **Go back** to step 1.\n",
        "\n",
        "\n",
        "- For training you can **use**:\n",
        "\n",
        "  - **initial** values **weight** and **bias parameters** as for **Problem 1**.\n",
        "  \n",
        "  - leanring rate = $0.1$, i.e. $\\alpha = 0.1$.\n",
        "  \n",
        "  - number of **epochs** = $100$, which is the number of times to loop through the entire dataset.\n",
        "\n",
        "\n",
        "- **Build** the **Neural Network Loss vs Epochs** plot.\n",
        "\n",
        "\n",
        "- **Note**: You must use the same **initial** values **weight** and **bias parameters** as for **Problem 1**!"
      ]
    }
  ],
  "metadata": {
    "celltoolbar": "Slideshow",
    "colab": {
      "provenance": []
    },
    "kernelspec": {
      "display_name": "Python 3",
      "language": "python",
      "name": "python3"
    },
    "language_info": {
      "codemirror_mode": {
        "name": "ipython",
        "version": 3
      },
      "file_extension": ".py",
      "mimetype": "text/x-python",
      "name": "python",
      "nbconvert_exporter": "python",
      "pygments_lexer": "ipython3",
      "version": "3.8.5"
    }
  },
  "nbformat": 4,
  "nbformat_minor": 0
}
