{
  "cells": [
    {
      "cell_type": "code",
      "execution_count": 1,
      "metadata": {},
      "outputs": [],
      "source": [
        "import numpy as np\n",
        "import matplotlib.pyplot as plt\n",
        "\n",
        "def tanh(x):\n",
        "    return np.tanh(x)\n",
        "\n",
        "def tanh_derivative(x):\n",
        "    return 1 - np.tanh(x)**2\n"
      ]
    },
    {
      "cell_type": "raw",
      "metadata": {
        "vscode": {
          "languageId": "raw"
        }
      },
      "source": [
        "## Problem 1: Building Neuron\n",
        "\n",
        "Given:\n",
        "- 3-input neuron with hyperbolic tangent activation\n",
        "- Weights: $\\mathbf{w} = [1, -2, 3]^T$\n",
        "- Bias: $b = -\\pi$\n",
        "- Input: $\\mathbf{x} = [-2, 1, -1]$\n"
      ]
    },
    {
      "cell_type": "raw",
      "metadata": {
        "vscode": {
          "languageId": "raw"
        }
      },
      "source": [
        "### 1. Chain of calculations:\n",
        "\n",
        "1. Calculate weighted sum: $z = \\mathbf{w}^T \\mathbf{x} + b$\n",
        "2. Apply activation function: $y = \\tanh(z)$\n",
        "\n",
        "Step by step:\n",
        "- $z = w_1 \\cdot x_1 + w_2 \\cdot x_2 + w_3 \\cdot x_3 + b$\n",
        "- $z = 1 \\cdot (-2) + (-2) \\cdot 1 + 3 \\cdot (-1) + (-\\pi)$\n",
        "- $z = -2 - 2 - 3 - \\pi$\n",
        "- $z = -7 - \\pi$\n",
        "- $y = \\tanh(-7 - \\pi)$\n"
      ]
    },
    {
      "cell_type": "code",
      "execution_count": 2,
      "metadata": {},
      "outputs": [
        {
          "name": "stdout",
          "output_type": "stream",
          "text": [
            "z = -10.1416\n",
            "y = -1.000000\n"
          ]
        }
      ],
      "source": [
        "w = np.array([1, -2, 3])\n",
        "b = -np.pi\n",
        "x = np.array([-2, 1, -1])\n",
        "\n",
        "z = np.dot(w, x) + b\n",
        "y = tanh(z)\n",
        "\n",
        "print(f\"z = {z:.4f}\")\n",
        "print(f\"y = {y:.6f}\")\n"
      ]
    },
    {
      "cell_type": "raw",
      "metadata": {
        "vscode": {
          "languageId": "raw"
        }
      },
      "source": [
        "## Problem 2: Combining Neurons into a Neural Network\n",
        "\n",
        "Given:\n",
        "- Two-layer neural network (3 neurons in hidden layer, 1 output neuron)\n",
        "- All neurons have same weights: $\\mathbf{w} = [1, -2, 3]^T$\n",
        "- All neurons have same bias: $b = -\\pi$\n",
        "- All use hyperbolic tangent activation\n",
        "- Input: $\\mathbf{x} = [-2, 1, -1]$\n"
      ]
    },
    {
      "cell_type": "raw",
      "metadata": {
        "vscode": {
          "languageId": "raw"
        }
      },
      "source": [
        "### 1. Chain of calculations:\n",
        "\n",
        "**Hidden Layer:**\n",
        "- All 3 hidden neurons receive the same input and have the same parameters\n",
        "- Each hidden neuron: $h_i = \\tanh(\\mathbf{w}^T \\mathbf{x} + b)$\n",
        "- From Problem 1, we know: $h_1 = h_2 = h_3 = \\tanh(-7 - \\pi) \\approx -1$\n",
        "\n",
        "**Output Layer:**\n",
        "- Input to output neuron: $[h_1, h_2, h_3]$\n",
        "- $z_{out} = w_1 \\cdot h_1 + w_2 \\cdot h_2 + w_3 \\cdot h_3 + b$\n",
        "- $y = \\tanh(z_{out})$\n"
      ]
    },
    {
      "cell_type": "code",
      "execution_count": 3,
      "metadata": {},
      "outputs": [
        {
          "name": "stdout",
          "output_type": "stream",
          "text": [
            "Hidden: -1.000000\n",
            "Output: -0.999932\n"
          ]
        }
      ],
      "source": [
        "w = np.array([1, -2, 3])\n",
        "b = -np.pi\n",
        "x = np.array([-2, 1, -1])\n",
        "\n",
        "# Hidden layer\n",
        "z_hidden = np.dot(w, x) + b\n",
        "h1 = h2 = h3 = tanh(z_hidden)\n",
        "hidden_output = np.array([h1, h2, h3])\n",
        "\n",
        "# Output layer\n",
        "z_output = np.dot(w, hidden_output) + b\n",
        "y = tanh(z_output)\n",
        "\n",
        "print(f\"Hidden: {h1:.6f}\")\n",
        "print(f\"Output: {y:.6f}\")\n"
      ]
    },
    {
      "cell_type": "raw",
      "metadata": {
        "vscode": {
          "languageId": "raw"
        }
      },
      "source": [
        "## Problem 3: Loss Function Calculation\n",
        "\n",
        "Given dataset:\n",
        "- Alice: Age=24, Weight=168, Height=59, Gender=1\n",
        "- Bob: Age=29, Weight=195, Height=72, Gender=0\n",
        "- Charlie: Age=31, Weight=187, Height=78, Gender=0\n",
        "- Diana: Age=26, Weight=155, Height=54, Gender=1\n",
        "\n",
        "Loss function: MSE = $\\frac{1}{n} \\sum_{i=1}^{n} (y_{true} - y_{pred})^2$\n"
      ]
    },
    {
      "cell_type": "code",
      "execution_count": 4,
      "metadata": {},
      "outputs": [
        {
          "name": "stdout",
          "output_type": "stream",
          "text": [
            "MSE: 2.500000\n"
          ]
        }
      ],
      "source": [
        "X_data = np.array([[24, 168, 59],\n",
        "                   [29, 195, 72],\n",
        "                   [31, 187, 78],\n",
        "                   [26, 155, 54]])\n",
        "\n",
        "y_true = np.array([1, 0, 0, 1])\n",
        "\n",
        "w = np.array([1, -2, 3])\n",
        "b = -np.pi\n",
        "\n",
        "y_pred = []\n",
        "for i in range(len(X_data)):\n",
        "    z_i = np.dot(w, X_data[i]) + b\n",
        "    y_pred.append(tanh(z_i))\n",
        "\n",
        "y_pred = np.array(y_pred)\n",
        "mse = np.mean((y_true - y_pred)**2)\n",
        "print(f\"MSE: {mse:.6f}\")\n"
      ]
    },
    {
      "cell_type": "raw",
      "metadata": {
        "vscode": {
          "languageId": "raw"
        }
      },
      "source": [
        "## Problem 4: Calculating Partial Derivatives\n",
        "\n",
        "Using only Alice's data and backpropagation to calculate:\n",
        "- $\\frac{\\partial L}{\\partial w_1}$, $\\frac{\\partial L}{\\partial w_2}$, $\\frac{\\partial L}{\\partial w_3}$, $\\frac{\\partial L}{\\partial b}$\n",
        "\n",
        "For a single sample: $L = (y_{true} - y_{pred})^2$\n"
      ]
    },
    {
      "cell_type": "code",
      "execution_count": 5,
      "metadata": {},
      "outputs": [
        {
          "name": "stdout",
          "output_type": "stream",
          "text": [
            "∂L/∂w₁ = -0.000000\n",
            "∂L/∂w₂ = -0.000000\n",
            "∂L/∂w₃ = -0.000000\n",
            "∂L/∂b = -0.000000\n"
          ]
        }
      ],
      "source": [
        "x_alice = np.array([24, 168, 59])\n",
        "y_true_alice = 1\n",
        "\n",
        "z = np.dot(w, x_alice) + b\n",
        "y_pred = tanh(z)\n",
        "loss = (y_true_alice - y_pred)**2\n",
        "\n",
        "# Backpropagation\n",
        "dL_dy = 2 * (y_pred - y_true_alice)\n",
        "dy_dz = tanh_derivative(z)\n",
        "dL_dz = dL_dy * dy_dz\n",
        "\n",
        "dL_dw1 = dL_dz * x_alice[0]\n",
        "dL_dw2 = dL_dz * x_alice[1]\n",
        "dL_dw3 = dL_dz * x_alice[2]\n",
        "dL_db = dL_dz\n",
        "\n",
        "print(f\"∂L/∂w₁ = {dL_dw1:.6f}\")\n",
        "print(f\"∂L/∂w₂ = {dL_dw2:.6f}\")\n",
        "print(f\"∂L/∂w₃ = {dL_dw3:.6f}\")\n",
        "print(f\"∂L/∂b = {dL_db:.6f}\")\n"
      ]
    },
    {
      "cell_type": "raw",
      "metadata": {
        "vscode": {
          "languageId": "raw"
        }
      },
      "source": [
        "## Extra Problem: Training a Neural Network\n",
        "\n",
        "Training parameters:\n",
        "- Initial weights and bias from Problem 1\n",
        "- Learning rate: α = 0.1\n",
        "- Epochs: 100\n",
        "- Using stochastic gradient descent (one sample at a time)\n"
      ]
    },
    {
      "cell_type": "code",
      "execution_count": 6,
      "metadata": {},
      "outputs": [
        {
          "data": {
            "image/png": "[encoded data removed]",
            "text/plain": [
              "<Figure size 640x480 with 1 Axes>"
            ]
          },
          "metadata": {},
          "output_type": "display_data"
        },
        {
          "name": "stdout",
          "output_type": "stream",
          "text": [
            "Final loss: 2.500000\n"
          ]
        }
      ],
      "source": [
        "w_train = np.array([1.0, -2.0, 3.0])\n",
        "b_train = -np.pi\n",
        "learning_rate = 0.1\n",
        "epochs = 100\n",
        "loss_history = []\n",
        "\n",
        "for epoch in range(epochs):\n",
        "    epoch_loss = 0\n",
        "    for i in range(len(X_data)):\n",
        "        x_i = X_data[i]\n",
        "        y_true_i = y_true[i]\n",
        "        \n",
        "        z_i = np.dot(w_train, x_i) + b_train\n",
        "        y_pred_i = tanh(z_i)\n",
        "        loss_i = (y_true_i - y_pred_i)**2\n",
        "        epoch_loss += loss_i\n",
        "        \n",
        "        dL_dy = 2 * (y_pred_i - y_true_i)\n",
        "        dy_dz = tanh_derivative(z_i)\n",
        "        dL_dz = dL_dy * dy_dz\n",
        "        \n",
        "        w_train = w_train - learning_rate * dL_dz * x_i\n",
        "        b_train = b_train - learning_rate * dL_dz\n",
        "    \n",
        "    loss_history.append(epoch_loss / len(X_data))\n",
        "\n",
        "plt.plot(loss_history)\n",
        "plt.xlabel('Epoch')\n",
        "plt.ylabel('Loss')\n",
        "plt.show()\n",
        "\n",
        "print(f\"Final loss: {loss_history[-1]:.6f}\")\n"
      ]
    }
  ],
  "metadata": {
    "kernelspec": {
      "display_name": ".venv",
      "language": "python",
      "name": "python3"
    },
    "language_info": {
      "codemirror_mode": {
        "name": "ipython",
        "version": 3
      },
      "file_extension": ".py",
      "mimetype": "text/x-python",
      "name": "python",
      "nbconvert_exporter": "python",
      "pygments_lexer": "ipython3",
      "version": "3.13.3"
    }
  },
  "nbformat": 4,
  "nbformat_minor": 2
}
