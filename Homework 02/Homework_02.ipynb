{
  "cells": [
    {
      "cell_type": "markdown",
      "metadata": {
        "id": "dVjcwjc4lnvF"
      },
      "source": [
        "Course: **Machine Learning**\n",
        "<br>\n",
        "\n",
        "Title: **Homework 2**\n",
        "<br>\n",
        "\n",
        "Homework will be evaluated maximum by **4 points**.\n",
        "<br>\n",
        "\n",
        "Each problem is **one point**."
      ]
    },
    {
      "cell_type": "markdown",
      "metadata": {
        "id": "PdDGkZjDlnvI"
      },
      "source": [
        "<h3 align=\"center\">Preparing the framework</h3>\n",
        "\n",
        "- To complete the homework, you will need to use the following python libraries:"
      ]
    },
    {
      "cell_type": "code",
      "execution_count": null,
      "metadata": {
        "id": "FYopawlllnvJ"
      },
      "outputs": [],
      "source": [
        "import numpy as np\n",
        "import pandas as pd\n",
        "import seaborn as sns\n",
        "import matplotlib.pyplot as plt\n",
        "from sklearn.model_selection import train_test_split\n",
        "from sklearn.linear_model import LinearRegression"
      ]
    },
    {
      "cell_type": "markdown",
      "metadata": {
        "id": "wvDWy39SlnvJ"
      },
      "source": [
        "- Next you will need to import the dataset.\n",
        "\n",
        "\n",
        "- Fortunately, **Seaborn** comes with a **few important datasets** in the library.\n",
        "\n",
        "\n",
        "- To **view all** the available **data sets** in the **Seaborn** library, you can use the **command** `get_dataset_names()`:"
      ]
    },
    {
      "cell_type": "code",
      "execution_count": null,
      "metadata": {
        "id": "dTYqPEMFlnvK",
        "outputId": "54e2d20a-79fe-4434-e3c7-82eb2138c431"
      },
      "outputs": [
        {
          "data": {
            "text/plain": [
              "['anagrams',\n",
              " 'anscombe',\n",
              " 'attention',\n",
              " 'brain_networks',\n",
              " 'car_crashes',\n",
              " 'diamonds',\n",
              " 'dots',\n",
              " 'exercise',\n",
              " 'flights',\n",
              " 'fmri',\n",
              " 'gammas',\n",
              " 'geyser',\n",
              " 'iris',\n",
              " 'mpg',\n",
              " 'penguins',\n",
              " 'planets',\n",
              " 'tips',\n",
              " 'titanic']"
            ]
          },
          "execution_count": 3,
          "metadata": {},
          "output_type": "execute_result"
        }
      ],
      "source": [
        "sns.get_dataset_names()"
      ]
    },
    {
      "cell_type": "markdown",
      "metadata": {
        "id": "OcG9WJ2RlnvL"
      },
      "source": [
        "<h3 align=\"center\">Problem 1: Data analysis with Pandas</h3>"
      ]
    },
    {
      "cell_type": "markdown",
      "metadata": {
        "id": "Ne-CkmUclnvL"
      },
      "source": [
        "1. Import the **tips** dataset using the appropriate **Seaborn** command.\n",
        "\n",
        "   **Hint**: Set keyboard cursor after `.` and click `tab`."
      ]
    },
    {
      "cell_type": "code",
      "execution_count": null,
      "metadata": {
        "id": "xmb-Kb_olnvL"
      },
      "outputs": [],
      "source": [
        "# Fill me\n",
        "df ="
      ]
    },
    {
      "cell_type": "markdown",
      "metadata": {
        "id": "YySDEfzRlnvM"
      },
      "source": [
        "2. Look at the data showing a **random sample of size 5** using the appropriate **Pandas** command.\n",
        "\n",
        "   **Hint**: Set keyboard cursor after `.` and click `tab`."
      ]
    },
    {
      "cell_type": "code",
      "execution_count": null,
      "metadata": {
        "id": "g0bhaxn9lnvM",
        "outputId": "2c09bc0e-c8ef-4d14-8f91-f6a20348aa3b",
        "scrolled": true
      },
      "outputs": [
        {
          "data": {
            "text/html": [
              "<div>\n",
              "<style scoped>\n",
              "    .dataframe tbody tr th:only-of-type {\n",
              "        vertical-align: middle;\n",
              "    }\n",
              "\n",
              "    .dataframe tbody tr th {\n",
              "        vertical-align: top;\n",
              "    }\n",
              "\n",
              "    .dataframe thead th {\n",
              "        text-align: right;\n",
              "    }\n",
              "</style>\n",
              "<table border=\"1\" class=\"dataframe\">\n",
              "  <thead>\n",
              "    <tr style=\"text-align: right;\">\n",
              "      <th></th>\n",
              "      <th>total_bill</th>\n",
              "      <th>tip</th>\n",
              "      <th>sex</th>\n",
              "      <th>smoker</th>\n",
              "      <th>day</th>\n",
              "      <th>time</th>\n",
              "      <th>size</th>\n",
              "    </tr>\n",
              "  </thead>\n",
              "  <tbody>\n",
              "    <tr>\n",
              "      <th>107</th>\n",
              "      <td>25.21</td>\n",
              "      <td>4.29</td>\n",
              "      <td>Male</td>\n",
              "      <td>Yes</td>\n",
              "      <td>Sat</td>\n",
              "      <td>Dinner</td>\n",
              "      <td>2</td>\n",
              "    </tr>\n",
              "    <tr>\n",
              "      <th>121</th>\n",
              "      <td>13.42</td>\n",
              "      <td>1.68</td>\n",
              "      <td>Female</td>\n",
              "      <td>No</td>\n",
              "      <td>Thur</td>\n",
              "      <td>Lunch</td>\n",
              "      <td>2</td>\n",
              "    </tr>\n",
              "    <tr>\n",
              "      <th>219</th>\n",
              "      <td>30.14</td>\n",
              "      <td>3.09</td>\n",
              "      <td>Female</td>\n",
              "      <td>Yes</td>\n",
              "      <td>Sat</td>\n",
              "      <td>Dinner</td>\n",
              "      <td>4</td>\n",
              "    </tr>\n",
              "    <tr>\n",
              "      <th>151</th>\n",
              "      <td>13.13</td>\n",
              "      <td>2.00</td>\n",
              "      <td>Male</td>\n",
              "      <td>No</td>\n",
              "      <td>Sun</td>\n",
              "      <td>Dinner</td>\n",
              "      <td>2</td>\n",
              "    </tr>\n",
              "    <tr>\n",
              "      <th>197</th>\n",
              "      <td>43.11</td>\n",
              "      <td>5.00</td>\n",
              "      <td>Female</td>\n",
              "      <td>Yes</td>\n",
              "      <td>Thur</td>\n",
              "      <td>Lunch</td>\n",
              "      <td>4</td>\n",
              "    </tr>\n",
              "  </tbody>\n",
              "</table>\n",
              "</div>"
            ],
            "text/plain": [
              "     total_bill   tip     sex smoker   day    time  size\n",
              "107       25.21  4.29    Male    Yes   Sat  Dinner     2\n",
              "121       13.42  1.68  Female     No  Thur   Lunch     2\n",
              "219       30.14  3.09  Female    Yes   Sat  Dinner     4\n",
              "151       13.13  2.00    Male     No   Sun  Dinner     2\n",
              "197       43.11  5.00  Female    Yes  Thur   Lunch     4"
            ]
          },
          "execution_count": 5,
          "metadata": {},
          "output_type": "execute_result"
        }
      ],
      "source": [
        "# Fill me\n",
        "df."
      ]
    },
    {
      "cell_type": "markdown",
      "metadata": {
        "id": "8jAZG7OFlnvN"
      },
      "source": [
        "- Now lets answer some **questions**.\n",
        "\n",
        "\n",
        "3. What is the hardest **day** to work based on number of tables been served? (**Write an answer**)\n",
        "\n",
        "   Perform next steps:\n",
        "     - Group the DataFrame by **day** column;\n",
        "     - Count numerical cells for each column.\n",
        "   \n",
        "   **Hint**: You can use the following Pandas commands: `groupby`, `count`.\n",
        "   \n",
        "   **Note**: Take in mind that these methods returns the **copy** of the initial DataFrame."
      ]
    },
    {
      "cell_type": "code",
      "execution_count": null,
      "metadata": {
        "id": "QfnhMM5RlnvN",
        "outputId": "e598bf21-0797-4c98-f63a-827758061fc3",
        "scrolled": true
      },
      "outputs": [
        {
          "data": {
            "text/html": [
              "<div>\n",
              "<style scoped>\n",
              "    .dataframe tbody tr th:only-of-type {\n",
              "        vertical-align: middle;\n",
              "    }\n",
              "\n",
              "    .dataframe tbody tr th {\n",
              "        vertical-align: top;\n",
              "    }\n",
              "\n",
              "    .dataframe thead th {\n",
              "        text-align: right;\n",
              "    }\n",
              "</style>\n",
              "<table border=\"1\" class=\"dataframe\">\n",
              "  <thead>\n",
              "    <tr style=\"text-align: right;\">\n",
              "      <th></th>\n",
              "      <th>total_bill</th>\n",
              "      <th>tip</th>\n",
              "      <th>sex</th>\n",
              "      <th>smoker</th>\n",
              "      <th>time</th>\n",
              "      <th>size</th>\n",
              "    </tr>\n",
              "    <tr>\n",
              "      <th>day</th>\n",
              "      <th></th>\n",
              "      <th></th>\n",
              "      <th></th>\n",
              "      <th></th>\n",
              "      <th></th>\n",
              "      <th></th>\n",
              "    </tr>\n",
              "  </thead>\n",
              "  <tbody>\n",
              "    <tr>\n",
              "      <th>Thur</th>\n",
              "      <td>62</td>\n",
              "      <td>62</td>\n",
              "      <td>62</td>\n",
              "      <td>62</td>\n",
              "      <td>62</td>\n",
              "      <td>62</td>\n",
              "    </tr>\n",
              "    <tr>\n",
              "      <th>Fri</th>\n",
              "      <td>19</td>\n",
              "      <td>19</td>\n",
              "      <td>19</td>\n",
              "      <td>19</td>\n",
              "      <td>19</td>\n",
              "      <td>19</td>\n",
              "    </tr>\n",
              "    <tr>\n",
              "      <th>Sat</th>\n",
              "      <td>87</td>\n",
              "      <td>87</td>\n",
              "      <td>87</td>\n",
              "      <td>87</td>\n",
              "      <td>87</td>\n",
              "      <td>87</td>\n",
              "    </tr>\n",
              "    <tr>\n",
              "      <th>Sun</th>\n",
              "      <td>76</td>\n",
              "      <td>76</td>\n",
              "      <td>76</td>\n",
              "      <td>76</td>\n",
              "      <td>76</td>\n",
              "      <td>76</td>\n",
              "    </tr>\n",
              "  </tbody>\n",
              "</table>\n",
              "</div>"
            ],
            "text/plain": [
              "      total_bill  tip  sex  smoker  time  size\n",
              "day                                           \n",
              "Thur          62   62   62      62    62    62\n",
              "Fri           19   19   19      19    19    19\n",
              "Sat           87   87   87      87    87    87\n",
              "Sun           76   76   76      76    76    76"
            ]
          },
          "execution_count": 6,
          "metadata": {},
          "output_type": "execute_result"
        }
      ],
      "source": [
        "# Fill me\n",
        "df."
      ]
    },
    {
      "cell_type": "markdown",
      "metadata": {
        "id": "R3Zqk9uVlnvN"
      },
      "source": [
        "4. Find out what **day** is best to work, i.e. when there is a maximum tips? (**Write an answer**)\n",
        "\n",
        "   Perform next steps:\n",
        "     - Create a copy of the initial DataFrame;\n",
        "     - Group new DataFrame by day and then sum it up;\n",
        "     - Drop the **size** column as its sum doesn't matter;\n",
        "     - Add a percent column that calculates the ratio: $$percent = \\frac{tip}{total\\_bill}.$$\n",
        "\n",
        "    **Hint**: You can use the following Pandas commands: `groupby`, `sum`, `drop`."
      ]
    },
    {
      "cell_type": "code",
      "execution_count": null,
      "metadata": {
        "id": "PLbKTnO9lnvN",
        "outputId": "33699f27-8dc9-41c1-c551-0c0de36b3d89",
        "scrolled": true
      },
      "outputs": [
        {
          "data": {
            "text/html": [
              "<div>\n",
              "<style scoped>\n",
              "    .dataframe tbody tr th:only-of-type {\n",
              "        vertical-align: middle;\n",
              "    }\n",
              "\n",
              "    .dataframe tbody tr th {\n",
              "        vertical-align: top;\n",
              "    }\n",
              "\n",
              "    .dataframe thead th {\n",
              "        text-align: right;\n",
              "    }\n",
              "</style>\n",
              "<table border=\"1\" class=\"dataframe\">\n",
              "  <thead>\n",
              "    <tr style=\"text-align: right;\">\n",
              "      <th></th>\n",
              "      <th>total_bill</th>\n",
              "      <th>tip</th>\n",
              "      <th>percent</th>\n",
              "    </tr>\n",
              "    <tr>\n",
              "      <th>day</th>\n",
              "      <th></th>\n",
              "      <th></th>\n",
              "      <th></th>\n",
              "    </tr>\n",
              "  </thead>\n",
              "  <tbody>\n",
              "    <tr>\n",
              "      <th>Thur</th>\n",
              "      <td>1096.33</td>\n",
              "      <td>171.83</td>\n",
              "      <td>15.673201</td>\n",
              "    </tr>\n",
              "    <tr>\n",
              "      <th>Fri</th>\n",
              "      <td>325.88</td>\n",
              "      <td>51.96</td>\n",
              "      <td>15.944519</td>\n",
              "    </tr>\n",
              "    <tr>\n",
              "      <th>Sat</th>\n",
              "      <td>1778.40</td>\n",
              "      <td>260.40</td>\n",
              "      <td>14.642375</td>\n",
              "    </tr>\n",
              "    <tr>\n",
              "      <th>Sun</th>\n",
              "      <td>1627.16</td>\n",
              "      <td>247.39</td>\n",
              "      <td>15.203791</td>\n",
              "    </tr>\n",
              "  </tbody>\n",
              "</table>\n",
              "</div>"
            ],
            "text/plain": [
              "      total_bill     tip    percent\n",
              "day                                \n",
              "Thur     1096.33  171.83  15.673201\n",
              "Fri       325.88   51.96  15.944519\n",
              "Sat      1778.40  260.40  14.642375\n",
              "Sun      1627.16  247.39  15.203791"
            ]
          },
          "execution_count": 7,
          "metadata": {},
          "output_type": "execute_result"
        }
      ],
      "source": [
        "# Fill me\n",
        "df2=\n",
        "df2.\n",
        "df2['percent'] =\n",
        "df2"
      ]
    },
    {
      "cell_type": "markdown",
      "metadata": {
        "id": "mgYMB9MZlnvO"
      },
      "source": [
        "5. Find out who **tipped** the most smokers or non-smokers? (**Write an answer**)\n",
        "\n",
        "    **Hint**: You can use the following Pandas commands: `groupby`, `sum`."
      ]
    },
    {
      "cell_type": "code",
      "execution_count": null,
      "metadata": {
        "id": "fsDTJqj-lnvO",
        "outputId": "7da4d104-f41d-484e-80ae-a264b0b415c1"
      },
      "outputs": [
        {
          "data": {
            "text/html": [
              "<div>\n",
              "<style scoped>\n",
              "    .dataframe tbody tr th:only-of-type {\n",
              "        vertical-align: middle;\n",
              "    }\n",
              "\n",
              "    .dataframe tbody tr th {\n",
              "        vertical-align: top;\n",
              "    }\n",
              "\n",
              "    .dataframe thead th {\n",
              "        text-align: right;\n",
              "    }\n",
              "</style>\n",
              "<table border=\"1\" class=\"dataframe\">\n",
              "  <thead>\n",
              "    <tr style=\"text-align: right;\">\n",
              "      <th></th>\n",
              "      <th>total_bill</th>\n",
              "      <th>tip</th>\n",
              "      <th>size</th>\n",
              "      <th>percent</th>\n",
              "    </tr>\n",
              "    <tr>\n",
              "      <th>smoker</th>\n",
              "      <th></th>\n",
              "      <th></th>\n",
              "      <th></th>\n",
              "      <th></th>\n",
              "    </tr>\n",
              "  </thead>\n",
              "  <tbody>\n",
              "    <tr>\n",
              "      <th>Yes</th>\n",
              "      <td>1930.34</td>\n",
              "      <td>279.81</td>\n",
              "      <td>224</td>\n",
              "      <td>14.495374</td>\n",
              "    </tr>\n",
              "    <tr>\n",
              "      <th>No</th>\n",
              "      <td>2897.43</td>\n",
              "      <td>451.77</td>\n",
              "      <td>403</td>\n",
              "      <td>15.592094</td>\n",
              "    </tr>\n",
              "  </tbody>\n",
              "</table>\n",
              "</div>"
            ],
            "text/plain": [
              "        total_bill     tip  size    percent\n",
              "smoker                                     \n",
              "Yes        1930.34  279.81   224  14.495374\n",
              "No         2897.43  451.77   403  15.592094"
            ]
          },
          "execution_count": 8,
          "metadata": {},
          "output_type": "execute_result"
        }
      ],
      "source": [
        "# Fill me\n",
        "df3=\n",
        "df3['percent'] =\n",
        "df3"
      ]
    },
    {
      "cell_type": "markdown",
      "metadata": {
        "id": "MArb5CfelnvO"
      },
      "source": [
        "6. Group the DataFrame by **day** and table **size** and **drop** null rows.\n",
        "\n",
        "   **Hint**: You can use the following Pandas commands: `groupby`. `dropna`."
      ]
    },
    {
      "cell_type": "code",
      "execution_count": null,
      "metadata": {
        "id": "84pq-p7YlnvO",
        "outputId": "1889139f-e2fe-44df-8ea7-2e2a1d2e76cd"
      },
      "outputs": [
        {
          "data": {
            "text/html": [
              "<div>\n",
              "<style scoped>\n",
              "    .dataframe tbody tr th:only-of-type {\n",
              "        vertical-align: middle;\n",
              "    }\n",
              "\n",
              "    .dataframe tbody tr th {\n",
              "        vertical-align: top;\n",
              "    }\n",
              "\n",
              "    .dataframe thead th {\n",
              "        text-align: right;\n",
              "    }\n",
              "</style>\n",
              "<table border=\"1\" class=\"dataframe\">\n",
              "  <thead>\n",
              "    <tr style=\"text-align: right;\">\n",
              "      <th></th>\n",
              "      <th></th>\n",
              "      <th>total_bill</th>\n",
              "      <th>tip</th>\n",
              "      <th>percent</th>\n",
              "    </tr>\n",
              "    <tr>\n",
              "      <th>day</th>\n",
              "      <th>size</th>\n",
              "      <th></th>\n",
              "      <th></th>\n",
              "      <th></th>\n",
              "    </tr>\n",
              "  </thead>\n",
              "  <tbody>\n",
              "    <tr>\n",
              "      <th rowspan=\"6\" valign=\"top\">Thur</th>\n",
              "      <th>1</th>\n",
              "      <td>10.07</td>\n",
              "      <td>1.83</td>\n",
              "      <td>18.172790</td>\n",
              "    </tr>\n",
              "    <tr>\n",
              "      <th>2</th>\n",
              "      <td>727.53</td>\n",
              "      <td>117.24</td>\n",
              "      <td>16.114799</td>\n",
              "    </tr>\n",
              "    <tr>\n",
              "      <th>3</th>\n",
              "      <td>76.64</td>\n",
              "      <td>10.77</td>\n",
              "      <td>14.052714</td>\n",
              "    </tr>\n",
              "    <tr>\n",
              "      <th>4</th>\n",
              "      <td>149.75</td>\n",
              "      <td>21.09</td>\n",
              "      <td>14.083472</td>\n",
              "    </tr>\n",
              "    <tr>\n",
              "      <th>5</th>\n",
              "      <td>41.19</td>\n",
              "      <td>5.00</td>\n",
              "      <td>12.138869</td>\n",
              "    </tr>\n",
              "    <tr>\n",
              "      <th>6</th>\n",
              "      <td>91.15</td>\n",
              "      <td>15.90</td>\n",
              "      <td>17.443774</td>\n",
              "    </tr>\n",
              "    <tr>\n",
              "      <th rowspan=\"4\" valign=\"top\">Fri</th>\n",
              "      <th>1</th>\n",
              "      <td>8.58</td>\n",
              "      <td>1.92</td>\n",
              "      <td>22.377622</td>\n",
              "    </tr>\n",
              "    <tr>\n",
              "      <th>2</th>\n",
              "      <td>261.15</td>\n",
              "      <td>42.31</td>\n",
              "      <td>16.201417</td>\n",
              "    </tr>\n",
              "    <tr>\n",
              "      <th>3</th>\n",
              "      <td>15.98</td>\n",
              "      <td>3.00</td>\n",
              "      <td>18.773467</td>\n",
              "    </tr>\n",
              "    <tr>\n",
              "      <th>4</th>\n",
              "      <td>40.17</td>\n",
              "      <td>4.73</td>\n",
              "      <td>11.774956</td>\n",
              "    </tr>\n",
              "    <tr>\n",
              "      <th rowspan=\"5\" valign=\"top\">Sat</th>\n",
              "      <th>1</th>\n",
              "      <td>10.32</td>\n",
              "      <td>2.00</td>\n",
              "      <td>19.379845</td>\n",
              "    </tr>\n",
              "    <tr>\n",
              "      <th>2</th>\n",
              "      <td>892.37</td>\n",
              "      <td>133.43</td>\n",
              "      <td>14.952318</td>\n",
              "    </tr>\n",
              "    <tr>\n",
              "      <th>3</th>\n",
              "      <td>459.17</td>\n",
              "      <td>68.36</td>\n",
              "      <td>14.887732</td>\n",
              "    </tr>\n",
              "    <tr>\n",
              "      <th>4</th>\n",
              "      <td>388.39</td>\n",
              "      <td>53.61</td>\n",
              "      <td>13.803136</td>\n",
              "    </tr>\n",
              "    <tr>\n",
              "      <th>5</th>\n",
              "      <td>28.15</td>\n",
              "      <td>3.00</td>\n",
              "      <td>10.657194</td>\n",
              "    </tr>\n",
              "    <tr>\n",
              "      <th rowspan=\"5\" valign=\"top\">Sun</th>\n",
              "      <th>2</th>\n",
              "      <td>684.84</td>\n",
              "      <td>109.86</td>\n",
              "      <td>16.041703</td>\n",
              "    </tr>\n",
              "    <tr>\n",
              "      <th>3</th>\n",
              "      <td>332.76</td>\n",
              "      <td>46.81</td>\n",
              "      <td>14.067196</td>\n",
              "    </tr>\n",
              "    <tr>\n",
              "      <th>4</th>\n",
              "      <td>480.39</td>\n",
              "      <td>73.58</td>\n",
              "      <td>15.316722</td>\n",
              "    </tr>\n",
              "    <tr>\n",
              "      <th>5</th>\n",
              "      <td>81.00</td>\n",
              "      <td>12.14</td>\n",
              "      <td>14.987654</td>\n",
              "    </tr>\n",
              "    <tr>\n",
              "      <th>6</th>\n",
              "      <td>48.17</td>\n",
              "      <td>5.00</td>\n",
              "      <td>10.379905</td>\n",
              "    </tr>\n",
              "  </tbody>\n",
              "</table>\n",
              "</div>"
            ],
            "text/plain": [
              "           total_bill     tip    percent\n",
              "day  size                               \n",
              "Thur 1          10.07    1.83  18.172790\n",
              "     2         727.53  117.24  16.114799\n",
              "     3          76.64   10.77  14.052714\n",
              "     4         149.75   21.09  14.083472\n",
              "     5          41.19    5.00  12.138869\n",
              "     6          91.15   15.90  17.443774\n",
              "Fri  1           8.58    1.92  22.377622\n",
              "     2         261.15   42.31  16.201417\n",
              "     3          15.98    3.00  18.773467\n",
              "     4          40.17    4.73  11.774956\n",
              "Sat  1          10.32    2.00  19.379845\n",
              "     2         892.37  133.43  14.952318\n",
              "     3         459.17   68.36  14.887732\n",
              "     4         388.39   53.61  13.803136\n",
              "     5          28.15    3.00  10.657194\n",
              "Sun  2         684.84  109.86  16.041703\n",
              "     3         332.76   46.81  14.067196\n",
              "     4         480.39   73.58  15.316722\n",
              "     5          81.00   12.14  14.987654\n",
              "     6          48.17    5.00  10.379905"
            ]
          },
          "execution_count": 9,
          "metadata": {},
          "output_type": "execute_result"
        }
      ],
      "source": [
        "# Fill me\n",
        "df4 =\n",
        "df4['percent'] =\n",
        "df4."
      ]
    },
    {
      "cell_type": "markdown",
      "metadata": {
        "id": "7LoBChNHlnvP"
      },
      "source": [
        "<h3 align=\"center\">Problem 2: Visualization with Seaborn</h3>\n",
        "\n",
        "1. Draw the **per day** histogram.\n",
        "\n",
        "    **Hint**: You can use the following Seaborn command: `countplot`.\n"
      ]
    },
    {
      "cell_type": "code",
      "execution_count": null,
      "metadata": {
        "id": "RqVHn7v3lnvP",
        "outputId": "aeb292a8-a9e5-4627-a364-cfa97919291a",
        "scrolled": true
      },
      "outputs": [
        {
          "data": {
            "text/plain": [
              "<matplotlib.axes._subplots.AxesSubplot at 0x26339193860>"
            ]
          },
          "execution_count": 10,
          "metadata": {},
          "output_type": "execute_result"
        },
        {
          "data": {
            "image/png": "[encoded data removed]",
            "text/plain": [
              "<Figure size 432x288 with 1 Axes>"
            ]
          },
          "metadata": {
            "needs_background": "light"
          },
          "output_type": "display_data"
        }
      ],
      "source": [
        "# Fill me\n",
        "sns."
      ]
    },
    {
      "cell_type": "markdown",
      "metadata": {
        "id": "mQqHdf6rlnvP"
      },
      "source": [
        "2. Draw the **per day** histogram by category **smoker**.\n",
        "\n",
        "    **Hint**: You can use the following Seaborn commands: `countplot` with property `hue`."
      ]
    },
    {
      "cell_type": "code",
      "execution_count": null,
      "metadata": {
        "id": "kbmpJi9BlnvP",
        "outputId": "d2813130-24d9-43b1-9eda-999ad7621af4",
        "scrolled": true
      },
      "outputs": [
        {
          "data": {
            "text/plain": [
              "<matplotlib.axes._subplots.AxesSubplot at 0x26339264630>"
            ]
          },
          "execution_count": 11,
          "metadata": {},
          "output_type": "execute_result"
        },
        {
          "data": {
            "image/png": "[encoded data removed]",
            "text/plain": [
              "<Figure size 432x288 with 1 Axes>"
            ]
          },
          "metadata": {
            "needs_background": "light"
          },
          "output_type": "display_data"
        }
      ],
      "source": [
        "# Fill me\n",
        "sns."
      ]
    },
    {
      "cell_type": "markdown",
      "metadata": {
        "id": "44I5cDzQlnvQ"
      },
      "source": [
        "3. Using the **matplotlib** draw **two plots** in one figure:\n",
        "   - **Left plot**: shows a **box plot** of the distributions of **day** by category **total_bill**.\n",
        "   - **Right plot**: shows a **violin plot** of the distributions of **day** by category **tip**.\n",
        "   \n",
        "   **Explain the observed results**!\n",
        "   \n",
        "   **Hint**: Search Google for suitable Seaborn commands!"
      ]
    },
    {
      "cell_type": "code",
      "execution_count": null,
      "metadata": {
        "id": "mX9K8yMMlnvQ",
        "outputId": "1b0dfe2b-2c32-4bde-b4a4-a114568caad8"
      },
      "outputs": [
        {
          "data": {
            "text/plain": [
              "<matplotlib.axes._subplots.AxesSubplot at 0x26339329dd8>"
            ]
          },
          "execution_count": 12,
          "metadata": {},
          "output_type": "execute_result"
        },
        {
          "data": {
            "image/png": "[encoded data removed]",
            "text/plain": [
              "<Figure size 1080x432 with 2 Axes>"
            ]
          },
          "metadata": {
            "needs_background": "light"
          },
          "output_type": "display_data"
        }
      ],
      "source": [
        "# Fill me\n",
        "plt.\n",
        "plt.\n",
        "sns.\n",
        "plt.\n",
        "sns."
      ]
    },
    {
      "cell_type": "markdown",
      "metadata": {
        "id": "slhWwPNxlnvQ"
      },
      "source": [
        "<h3 align=\"center\">Problem 3: Data Preprocessing</h3>\n",
        "\n",
        "- Before we start building our model, we need to convert all the text values into numbers.\n",
        "\n",
        "\n",
        "- We can do it in many ways:\n",
        "  - Using update statements\n",
        "  - **Using replace method**\n",
        "  - Iterate over the rows\n",
        "  - **Use dummy variables**"
      ]
    },
    {
      "cell_type": "markdown",
      "metadata": {
        "id": "7Yhbv1T1lnvQ"
      },
      "source": [
        "1. **Convert** the **sex** and **smoker** columns to numerical values.\n",
        "\n",
        "   **Hint**: You can use the following Pandas command: `replace`.\n"
      ]
    },
    {
      "cell_type": "code",
      "execution_count": null,
      "metadata": {
        "id": "ZAv43J12lnvR",
        "outputId": "59943441-afc1-4d23-cb52-e86a8cc7faac"
      },
      "outputs": [
        {
          "data": {
            "text/html": [
              "<div>\n",
              "<style scoped>\n",
              "    .dataframe tbody tr th:only-of-type {\n",
              "        vertical-align: middle;\n",
              "    }\n",
              "\n",
              "    .dataframe tbody tr th {\n",
              "        vertical-align: top;\n",
              "    }\n",
              "\n",
              "    .dataframe thead th {\n",
              "        text-align: right;\n",
              "    }\n",
              "</style>\n",
              "<table border=\"1\" class=\"dataframe\">\n",
              "  <thead>\n",
              "    <tr style=\"text-align: right;\">\n",
              "      <th></th>\n",
              "      <th>total_bill</th>\n",
              "      <th>tip</th>\n",
              "      <th>sex</th>\n",
              "      <th>smoker</th>\n",
              "      <th>day</th>\n",
              "      <th>time</th>\n",
              "      <th>size</th>\n",
              "    </tr>\n",
              "  </thead>\n",
              "  <tbody>\n",
              "    <tr>\n",
              "      <th>0</th>\n",
              "      <td>16.99</td>\n",
              "      <td>1.01</td>\n",
              "      <td>1</td>\n",
              "      <td>0</td>\n",
              "      <td>Sun</td>\n",
              "      <td>Dinner</td>\n",
              "      <td>2</td>\n",
              "    </tr>\n",
              "    <tr>\n",
              "      <th>1</th>\n",
              "      <td>10.34</td>\n",
              "      <td>1.66</td>\n",
              "      <td>0</td>\n",
              "      <td>0</td>\n",
              "      <td>Sun</td>\n",
              "      <td>Dinner</td>\n",
              "      <td>3</td>\n",
              "    </tr>\n",
              "    <tr>\n",
              "      <th>2</th>\n",
              "      <td>21.01</td>\n",
              "      <td>3.50</td>\n",
              "      <td>0</td>\n",
              "      <td>0</td>\n",
              "      <td>Sun</td>\n",
              "      <td>Dinner</td>\n",
              "      <td>3</td>\n",
              "    </tr>\n",
              "    <tr>\n",
              "      <th>3</th>\n",
              "      <td>23.68</td>\n",
              "      <td>3.31</td>\n",
              "      <td>0</td>\n",
              "      <td>0</td>\n",
              "      <td>Sun</td>\n",
              "      <td>Dinner</td>\n",
              "      <td>2</td>\n",
              "    </tr>\n",
              "    <tr>\n",
              "      <th>4</th>\n",
              "      <td>24.59</td>\n",
              "      <td>3.61</td>\n",
              "      <td>1</td>\n",
              "      <td>0</td>\n",
              "      <td>Sun</td>\n",
              "      <td>Dinner</td>\n",
              "      <td>4</td>\n",
              "    </tr>\n",
              "  </tbody>\n",
              "</table>\n",
              "</div>"
            ],
            "text/plain": [
              "   total_bill   tip  sex  smoker  day    time  size\n",
              "0       16.99  1.01    1       0  Sun  Dinner     2\n",
              "1       10.34  1.66    0       0  Sun  Dinner     3\n",
              "2       21.01  3.50    0       0  Sun  Dinner     3\n",
              "3       23.68  3.31    0       0  Sun  Dinner     2\n",
              "4       24.59  3.61    1       0  Sun  Dinner     4"
            ]
          },
          "execution_count": 13,
          "metadata": {},
          "output_type": "execute_result"
        }
      ],
      "source": [
        "# Fill me\n",
        "df.\n",
        "df.head()"
      ]
    },
    {
      "cell_type": "markdown",
      "metadata": {
        "id": "egBmC70jlnvR"
      },
      "source": [
        "2. **Convert** the values in **day** column to numerical values using **dummy variables**.\n",
        "\n",
        "   **Hint**: You can use the following Pandas command: `get_dummies`.\n"
      ]
    },
    {
      "cell_type": "code",
      "execution_count": null,
      "metadata": {
        "id": "RgT3A-gKlnvR",
        "outputId": "425da208-3b0b-437f-ccff-0f59c24dee17",
        "scrolled": true
      },
      "outputs": [
        {
          "data": {
            "text/html": [
              "<div>\n",
              "<style scoped>\n",
              "    .dataframe tbody tr th:only-of-type {\n",
              "        vertical-align: middle;\n",
              "    }\n",
              "\n",
              "    .dataframe tbody tr th {\n",
              "        vertical-align: top;\n",
              "    }\n",
              "\n",
              "    .dataframe thead th {\n",
              "        text-align: right;\n",
              "    }\n",
              "</style>\n",
              "<table border=\"1\" class=\"dataframe\">\n",
              "  <thead>\n",
              "    <tr style=\"text-align: right;\">\n",
              "      <th></th>\n",
              "      <th>Thur</th>\n",
              "      <th>Fri</th>\n",
              "      <th>Sat</th>\n",
              "      <th>Sun</th>\n",
              "    </tr>\n",
              "  </thead>\n",
              "  <tbody>\n",
              "    <tr>\n",
              "      <th>88</th>\n",
              "      <td>1</td>\n",
              "      <td>0</td>\n",
              "      <td>0</td>\n",
              "      <td>0</td>\n",
              "    </tr>\n",
              "    <tr>\n",
              "      <th>0</th>\n",
              "      <td>0</td>\n",
              "      <td>0</td>\n",
              "      <td>0</td>\n",
              "      <td>1</td>\n",
              "    </tr>\n",
              "    <tr>\n",
              "      <th>167</th>\n",
              "      <td>0</td>\n",
              "      <td>0</td>\n",
              "      <td>0</td>\n",
              "      <td>1</td>\n",
              "    </tr>\n",
              "    <tr>\n",
              "      <th>116</th>\n",
              "      <td>0</td>\n",
              "      <td>0</td>\n",
              "      <td>0</td>\n",
              "      <td>1</td>\n",
              "    </tr>\n",
              "    <tr>\n",
              "      <th>182</th>\n",
              "      <td>0</td>\n",
              "      <td>0</td>\n",
              "      <td>0</td>\n",
              "      <td>1</td>\n",
              "    </tr>\n",
              "  </tbody>\n",
              "</table>\n",
              "</div>"
            ],
            "text/plain": [
              "     Thur  Fri  Sat  Sun\n",
              "88      1    0    0    0\n",
              "0       0    0    0    1\n",
              "167     0    0    0    1\n",
              "116     0    0    0    1\n",
              "182     0    0    0    1"
            ]
          },
          "execution_count": 14,
          "metadata": {},
          "output_type": "execute_result"
        }
      ],
      "source": [
        "# Fill me\n",
        "days=\n",
        "days.sample(5)"
      ]
    },
    {
      "cell_type": "markdown",
      "metadata": {
        "id": "10V-fO8MlnvR"
      },
      "source": [
        "- We can drop one of the columns without loosing data.\n",
        "\n",
        "- For example if we drop column **Thur** because we know that **index 88**  is **Thur** because **all other days** are **0**."
      ]
    },
    {
      "cell_type": "markdown",
      "metadata": {
        "id": "5TyCFvKElnvS"
      },
      "source": [
        "3. **Drop** the column **Thur**.\n",
        "\n",
        "   **Hint**: You can use the following Pandas command: `get_dummies` with property: `drop_first`.\n"
      ]
    },
    {
      "cell_type": "code",
      "execution_count": null,
      "metadata": {
        "id": "HfHthbbflnvS",
        "outputId": "05aebfa4-cfaa-4651-e906-f39956e85919",
        "scrolled": true
      },
      "outputs": [
        {
          "data": {
            "text/html": [
              "<div>\n",
              "<style scoped>\n",
              "    .dataframe tbody tr th:only-of-type {\n",
              "        vertical-align: middle;\n",
              "    }\n",
              "\n",
              "    .dataframe tbody tr th {\n",
              "        vertical-align: top;\n",
              "    }\n",
              "\n",
              "    .dataframe thead th {\n",
              "        text-align: right;\n",
              "    }\n",
              "</style>\n",
              "<table border=\"1\" class=\"dataframe\">\n",
              "  <thead>\n",
              "    <tr style=\"text-align: right;\">\n",
              "      <th></th>\n",
              "      <th>Fri</th>\n",
              "      <th>Sat</th>\n",
              "      <th>Sun</th>\n",
              "    </tr>\n",
              "  </thead>\n",
              "  <tbody>\n",
              "    <tr>\n",
              "      <th>0</th>\n",
              "      <td>0</td>\n",
              "      <td>0</td>\n",
              "      <td>1</td>\n",
              "    </tr>\n",
              "    <tr>\n",
              "      <th>1</th>\n",
              "      <td>0</td>\n",
              "      <td>0</td>\n",
              "      <td>1</td>\n",
              "    </tr>\n",
              "    <tr>\n",
              "      <th>2</th>\n",
              "      <td>0</td>\n",
              "      <td>0</td>\n",
              "      <td>1</td>\n",
              "    </tr>\n",
              "    <tr>\n",
              "      <th>3</th>\n",
              "      <td>0</td>\n",
              "      <td>0</td>\n",
              "      <td>1</td>\n",
              "    </tr>\n",
              "    <tr>\n",
              "      <th>4</th>\n",
              "      <td>0</td>\n",
              "      <td>0</td>\n",
              "      <td>1</td>\n",
              "    </tr>\n",
              "  </tbody>\n",
              "</table>\n",
              "</div>"
            ],
            "text/plain": [
              "   Fri  Sat  Sun\n",
              "0    0    0    1\n",
              "1    0    0    1\n",
              "2    0    0    1\n",
              "3    0    0    1\n",
              "4    0    0    1"
            ]
          },
          "execution_count": 15,
          "metadata": {},
          "output_type": "execute_result"
        }
      ],
      "source": [
        "# Fill me\n",
        "days=\n",
        "days.head()"
      ]
    },
    {
      "cell_type": "markdown",
      "metadata": {
        "id": "dcuEpvsBlnvS"
      },
      "source": [
        "4. Do the same with **time** column.\n",
        "\n",
        "   **Hint**: You can use the following Pandas command: `get_dummies`; with property: `drop_first`."
      ]
    },
    {
      "cell_type": "code",
      "execution_count": null,
      "metadata": {
        "id": "lspqMaCylnvS",
        "outputId": "1a2d6d52-8c96-44d7-8eea-d42441a40ae9"
      },
      "outputs": [
        {
          "data": {
            "text/html": [
              "<div>\n",
              "<style scoped>\n",
              "    .dataframe tbody tr th:only-of-type {\n",
              "        vertical-align: middle;\n",
              "    }\n",
              "\n",
              "    .dataframe tbody tr th {\n",
              "        vertical-align: top;\n",
              "    }\n",
              "\n",
              "    .dataframe thead th {\n",
              "        text-align: right;\n",
              "    }\n",
              "</style>\n",
              "<table border=\"1\" class=\"dataframe\">\n",
              "  <thead>\n",
              "    <tr style=\"text-align: right;\">\n",
              "      <th></th>\n",
              "      <th>Dinner</th>\n",
              "    </tr>\n",
              "  </thead>\n",
              "  <tbody>\n",
              "    <tr>\n",
              "      <th>0</th>\n",
              "      <td>1</td>\n",
              "    </tr>\n",
              "    <tr>\n",
              "      <th>1</th>\n",
              "      <td>1</td>\n",
              "    </tr>\n",
              "    <tr>\n",
              "      <th>2</th>\n",
              "      <td>1</td>\n",
              "    </tr>\n",
              "    <tr>\n",
              "      <th>3</th>\n",
              "      <td>1</td>\n",
              "    </tr>\n",
              "    <tr>\n",
              "      <th>4</th>\n",
              "      <td>1</td>\n",
              "    </tr>\n",
              "  </tbody>\n",
              "</table>\n",
              "</div>"
            ],
            "text/plain": [
              "   Dinner\n",
              "0       1\n",
              "1       1\n",
              "2       1\n",
              "3       1\n",
              "4       1"
            ]
          },
          "execution_count": 16,
          "metadata": {},
          "output_type": "execute_result"
        }
      ],
      "source": [
        "# Fill me\n",
        "times=\n",
        "times.head()"
      ]
    },
    {
      "cell_type": "markdown",
      "metadata": {
        "id": "TObKfByolnvS"
      },
      "source": [
        "5. **Concat** the dataframes, i.e. **df**, **days** and **times**, and **Drop** the **day** and **size** columns since we do not need them anymore.\n",
        "\n",
        "   **Hint**: You can use the following Pandas command: `concat`, `drop`.\n"
      ]
    },
    {
      "cell_type": "code",
      "execution_count": null,
      "metadata": {
        "id": "ZEun8JaKlnvS",
        "outputId": "e3fb5735-9270-4651-81cf-476fde66ba8c"
      },
      "outputs": [
        {
          "data": {
            "text/html": [
              "<div>\n",
              "<style scoped>\n",
              "    .dataframe tbody tr th:only-of-type {\n",
              "        vertical-align: middle;\n",
              "    }\n",
              "\n",
              "    .dataframe tbody tr th {\n",
              "        vertical-align: top;\n",
              "    }\n",
              "\n",
              "    .dataframe thead th {\n",
              "        text-align: right;\n",
              "    }\n",
              "</style>\n",
              "<table border=\"1\" class=\"dataframe\">\n",
              "  <thead>\n",
              "    <tr style=\"text-align: right;\">\n",
              "      <th></th>\n",
              "      <th>total_bill</th>\n",
              "      <th>tip</th>\n",
              "      <th>sex</th>\n",
              "      <th>smoker</th>\n",
              "      <th>size</th>\n",
              "      <th>Fri</th>\n",
              "      <th>Sat</th>\n",
              "      <th>Sun</th>\n",
              "      <th>Dinner</th>\n",
              "    </tr>\n",
              "  </thead>\n",
              "  <tbody>\n",
              "    <tr>\n",
              "      <th>0</th>\n",
              "      <td>16.99</td>\n",
              "      <td>1.01</td>\n",
              "      <td>1</td>\n",
              "      <td>0</td>\n",
              "      <td>2</td>\n",
              "      <td>0</td>\n",
              "      <td>0</td>\n",
              "      <td>1</td>\n",
              "      <td>1</td>\n",
              "    </tr>\n",
              "    <tr>\n",
              "      <th>1</th>\n",
              "      <td>10.34</td>\n",
              "      <td>1.66</td>\n",
              "      <td>0</td>\n",
              "      <td>0</td>\n",
              "      <td>3</td>\n",
              "      <td>0</td>\n",
              "      <td>0</td>\n",
              "      <td>1</td>\n",
              "      <td>1</td>\n",
              "    </tr>\n",
              "    <tr>\n",
              "      <th>2</th>\n",
              "      <td>21.01</td>\n",
              "      <td>3.50</td>\n",
              "      <td>0</td>\n",
              "      <td>0</td>\n",
              "      <td>3</td>\n",
              "      <td>0</td>\n",
              "      <td>0</td>\n",
              "      <td>1</td>\n",
              "      <td>1</td>\n",
              "    </tr>\n",
              "    <tr>\n",
              "      <th>3</th>\n",
              "      <td>23.68</td>\n",
              "      <td>3.31</td>\n",
              "      <td>0</td>\n",
              "      <td>0</td>\n",
              "      <td>2</td>\n",
              "      <td>0</td>\n",
              "      <td>0</td>\n",
              "      <td>1</td>\n",
              "      <td>1</td>\n",
              "    </tr>\n",
              "    <tr>\n",
              "      <th>4</th>\n",
              "      <td>24.59</td>\n",
              "      <td>3.61</td>\n",
              "      <td>1</td>\n",
              "      <td>0</td>\n",
              "      <td>4</td>\n",
              "      <td>0</td>\n",
              "      <td>0</td>\n",
              "      <td>1</td>\n",
              "      <td>1</td>\n",
              "    </tr>\n",
              "  </tbody>\n",
              "</table>\n",
              "</div>"
            ],
            "text/plain": [
              "   total_bill   tip  sex  smoker  size  Fri  Sat  Sun  Dinner\n",
              "0       16.99  1.01    1       0     2    0    0    1       1\n",
              "1       10.34  1.66    0       0     3    0    0    1       1\n",
              "2       21.01  3.50    0       0     3    0    0    1       1\n",
              "3       23.68  3.31    0       0     2    0    0    1       1\n",
              "4       24.59  3.61    1       0     4    0    0    1       1"
            ]
          },
          "execution_count": 17,
          "metadata": {},
          "output_type": "execute_result"
        }
      ],
      "source": [
        "# Fill me\n",
        "df =\n",
        "df =\n",
        "df.\n",
        "df.head()"
      ]
    },
    {
      "cell_type": "markdown",
      "metadata": {
        "id": "2VDnBmMUlnvT"
      },
      "source": [
        "<h3 align=\"center\">Problem 4: Building Machine Learning model</h3>\n",
        "\n",
        "- Now we are **ready** to build the linear regression model."
      ]
    },
    {
      "cell_type": "markdown",
      "metadata": {
        "id": "6qGCfwvNlnvT"
      },
      "source": [
        "1. Create a DataFrame for the **input vector** $X$ keeping the following feature columns:\n",
        "\n",
        "   `sex`, `smoker`, `size`, `Fri`, `Sat` `Sun` `Dinner`.\n",
        "   \n",
        "   Also create the **target vector** $Y$: `tip`"
      ]
    },
    {
      "cell_type": "code",
      "execution_count": null,
      "metadata": {
        "id": "sGdNI8pAlnvT",
        "scrolled": true
      },
      "outputs": [],
      "source": [
        "# Fill me\n",
        "X = df[[]]\n",
        "Y = df[[]]"
      ]
    },
    {
      "cell_type": "code",
      "execution_count": null,
      "metadata": {
        "id": "LQpTgqewlnvT",
        "outputId": "8c79050c-9570-4cf9-c550-48383058df9a"
      },
      "outputs": [
        {
          "data": {
            "text/html": [
              "<div>\n",
              "<style scoped>\n",
              "    .dataframe tbody tr th:only-of-type {\n",
              "        vertical-align: middle;\n",
              "    }\n",
              "\n",
              "    .dataframe tbody tr th {\n",
              "        vertical-align: top;\n",
              "    }\n",
              "\n",
              "    .dataframe thead th {\n",
              "        text-align: right;\n",
              "    }\n",
              "</style>\n",
              "<table border=\"1\" class=\"dataframe\">\n",
              "  <thead>\n",
              "    <tr style=\"text-align: right;\">\n",
              "      <th></th>\n",
              "      <th>sex</th>\n",
              "      <th>smoker</th>\n",
              "      <th>size</th>\n",
              "      <th>Fri</th>\n",
              "      <th>Sat</th>\n",
              "      <th>Sun</th>\n",
              "      <th>Dinner</th>\n",
              "    </tr>\n",
              "  </thead>\n",
              "  <tbody>\n",
              "    <tr>\n",
              "      <th>0</th>\n",
              "      <td>1</td>\n",
              "      <td>0</td>\n",
              "      <td>2</td>\n",
              "      <td>0</td>\n",
              "      <td>0</td>\n",
              "      <td>1</td>\n",
              "      <td>1</td>\n",
              "    </tr>\n",
              "    <tr>\n",
              "      <th>1</th>\n",
              "      <td>0</td>\n",
              "      <td>0</td>\n",
              "      <td>3</td>\n",
              "      <td>0</td>\n",
              "      <td>0</td>\n",
              "      <td>1</td>\n",
              "      <td>1</td>\n",
              "    </tr>\n",
              "    <tr>\n",
              "      <th>2</th>\n",
              "      <td>0</td>\n",
              "      <td>0</td>\n",
              "      <td>3</td>\n",
              "      <td>0</td>\n",
              "      <td>0</td>\n",
              "      <td>1</td>\n",
              "      <td>1</td>\n",
              "    </tr>\n",
              "    <tr>\n",
              "      <th>3</th>\n",
              "      <td>0</td>\n",
              "      <td>0</td>\n",
              "      <td>2</td>\n",
              "      <td>0</td>\n",
              "      <td>0</td>\n",
              "      <td>1</td>\n",
              "      <td>1</td>\n",
              "    </tr>\n",
              "    <tr>\n",
              "      <th>4</th>\n",
              "      <td>1</td>\n",
              "      <td>0</td>\n",
              "      <td>4</td>\n",
              "      <td>0</td>\n",
              "      <td>0</td>\n",
              "      <td>1</td>\n",
              "      <td>1</td>\n",
              "    </tr>\n",
              "  </tbody>\n",
              "</table>\n",
              "</div>"
            ],
            "text/plain": [
              "   sex  smoker  size  Fri  Sat  Sun  Dinner\n",
              "0    1       0     2    0    0    1       1\n",
              "1    0       0     3    0    0    1       1\n",
              "2    0       0     3    0    0    1       1\n",
              "3    0       0     2    0    0    1       1\n",
              "4    1       0     4    0    0    1       1"
            ]
          },
          "execution_count": 19,
          "metadata": {},
          "output_type": "execute_result"
        }
      ],
      "source": [
        "X.head()"
      ]
    },
    {
      "cell_type": "code",
      "execution_count": null,
      "metadata": {
        "id": "yN3c9kBDlnvT",
        "outputId": "80468183-867b-46ed-c8dd-e519d4e42c2e"
      },
      "outputs": [
        {
          "data": {
            "text/html": [
              "<div>\n",
              "<style scoped>\n",
              "    .dataframe tbody tr th:only-of-type {\n",
              "        vertical-align: middle;\n",
              "    }\n",
              "\n",
              "    .dataframe tbody tr th {\n",
              "        vertical-align: top;\n",
              "    }\n",
              "\n",
              "    .dataframe thead th {\n",
              "        text-align: right;\n",
              "    }\n",
              "</style>\n",
              "<table border=\"1\" class=\"dataframe\">\n",
              "  <thead>\n",
              "    <tr style=\"text-align: right;\">\n",
              "      <th></th>\n",
              "      <th>tip</th>\n",
              "    </tr>\n",
              "  </thead>\n",
              "  <tbody>\n",
              "    <tr>\n",
              "      <th>0</th>\n",
              "      <td>1.01</td>\n",
              "    </tr>\n",
              "    <tr>\n",
              "      <th>1</th>\n",
              "      <td>1.66</td>\n",
              "    </tr>\n",
              "    <tr>\n",
              "      <th>2</th>\n",
              "      <td>3.50</td>\n",
              "    </tr>\n",
              "    <tr>\n",
              "      <th>3</th>\n",
              "      <td>3.31</td>\n",
              "    </tr>\n",
              "    <tr>\n",
              "      <th>4</th>\n",
              "      <td>3.61</td>\n",
              "    </tr>\n",
              "  </tbody>\n",
              "</table>\n",
              "</div>"
            ],
            "text/plain": [
              "    tip\n",
              "0  1.01\n",
              "1  1.66\n",
              "2  3.50\n",
              "3  3.31\n",
              "4  3.61"
            ]
          },
          "execution_count": 20,
          "metadata": {},
          "output_type": "execute_result"
        }
      ],
      "source": [
        "Y.head()"
      ]
    },
    {
      "cell_type": "markdown",
      "metadata": {
        "id": "nk5FpbU7lnvT"
      },
      "source": [
        "2. Split the data into **train set** and **test set** so we can test our model before we use it.\n",
        "\n",
        "   Choose the split ratio $70\\%$ – $30\\%$.\n",
        "   \n",
        "   **Hint**: You can use Sklearn method: `train_test_split`"
      ]
    },
    {
      "cell_type": "code",
      "execution_count": null,
      "metadata": {
        "id": "ptw3vbQhlnvU"
      },
      "outputs": [],
      "source": [
        "# Fill me\n",
        "X_train, X_test , y_train , y_test ="
      ]
    },
    {
      "cell_type": "markdown",
      "metadata": {
        "id": "R5IUueRQlnvU"
      },
      "source": [
        "3. Train the model with `X_train` and `y_train` and predict the `X_test` values.\n",
        "\n",
        "   **Hint**: You can use an appropriate Sklearn method withcommands: `fit` and `predict`."
      ]
    },
    {
      "cell_type": "code",
      "execution_count": null,
      "metadata": {
        "id": "0SBDT1ySlnvU"
      },
      "outputs": [],
      "source": [
        "# Fill me\n",
        "model =\n",
        "model.\n",
        "predictions="
      ]
    },
    {
      "cell_type": "markdown",
      "metadata": {
        "id": "16t5lP7plnvU"
      },
      "source": [
        "4. Draw a histogram to see the difference distribution: $y_{obs} - y_{pred}$.\n",
        "\n",
        "    **Hint**: You can use the following Seaborn commands: `distplot`."
      ]
    },
    {
      "cell_type": "code",
      "execution_count": null,
      "metadata": {
        "id": "LZRGv1JRlnvU",
        "outputId": "5e139cf1-0efc-4209-8dbc-a15425e87f46",
        "scrolled": true
      },
      "outputs": [
        {
          "data": {
            "text/plain": [
              "<matplotlib.axes._subplots.AxesSubplot at 0x26339605898>"
            ]
          },
          "execution_count": 23,
          "metadata": {},
          "output_type": "execute_result"
        },
        {
          "data": {
            "image/png": "[encoded data removed]",
            "text/plain": [
              "<Figure size 432x288 with 1 Axes>"
            ]
          },
          "metadata": {
            "needs_background": "light"
          },
          "output_type": "display_data"
        }
      ],
      "source": [
        "sns."
      ]
    },
    {
      "cell_type": "markdown",
      "metadata": {
        "id": "WqxNTIJKlnvU"
      },
      "source": [
        "- We can see from the histogram that most of the times the **predictions were correct** (**difference $\\approx 0$**)."
      ]
    },
    {
      "cell_type": "markdown",
      "metadata": {
        "id": "89CwtomjlnvU"
      },
      "source": [
        "5. Predict **new value**, for example when we have **4 size table non-smoker male on Saturday lunch**.\n",
        "\n",
        "   **Hint**: Create an appropriate **np.array** object and do not forget to `reshape(1,-1)` it."
      ]
    },
    {
      "cell_type": "code",
      "execution_count": null,
      "metadata": {
        "id": "R0R0rt6TlnvU",
        "outputId": "2c9eed39-70c6-4586-a6ea-60b14f10d758"
      },
      "outputs": [
        {
          "name": "stdout",
          "output_type": "stream",
          "text": [
            "We expect to get 3.49$ tip.\n"
          ]
        }
      ],
      "source": [
        "# Fill me\n",
        "new_Val =\n",
        "tip =\n",
        "print(\"We expect to get %.2f$ tip.\" % tip[0, 0])"
      ]
    },
    {
      "cell_type": "markdown",
      "metadata": {
        "id": "dBU42BGKlnvV"
      },
      "source": [
        "<h3 align=\"center\">Extra Problem: The Convex Hull</h3>\n",
        "\n",
        "- Given a set of data points $\\{\\mathbf{x}_n\\}$,  $n = 1, ..., N$, we can define the **convex hull** to be the set of all points $\\mathbf{x}$ given by:\n",
        "\n",
        "  $$\\mathbf{x} = \\sum_{n}^{N} \\alpha_n \\mathbf{x}_n,$$\n",
        "    \n",
        "  where $\\alpha_n \\geq 0$ and $\\sum_{n}^{N} \\alpha_n = 1$.\n",
        "\n",
        "- Consider a second set of points $\\{\\mathbf{y}_m\\}$, $m = 1, ..., M$, together with their corresponding convex hull.\n",
        "\n",
        "\n",
        "- By definition, the **two sets** of points will be **linearly separable** if there exists a vector $\\hat{\\mathbf{w}}$ and a scalar $w_0$ such that $\\hat{\\mathbf{w}} \\mathbf{x}_n + w_0 > 0$ for all  $\\mathbf{x}_n$ and $\\hat{\\mathbf{w}} \\mathbf{y}_m + w_0 < 0$ for all $\\mathbf{y}_m$.\n",
        "\n",
        "\n",
        "- Show that if their **convex hulls intersect**, the two sets of points **cannot be linearly separable**, and conversely that if they are **linearly separable**, their **convex hulls do not intersect**."
      ]
    }
  ],
  "metadata": {
    "celltoolbar": "Slideshow",
    "colab": {
      "provenance": []
    },
    "kernelspec": {
      "display_name": "Python 3",
      "language": "python",
      "name": "python3"
    },
    "language_info": {
      "codemirror_mode": {
        "name": "ipython",
        "version": 3
      },
      "file_extension": ".py",
      "mimetype": "text/x-python",
      "name": "python",
      "nbconvert_exporter": "python",
      "pygments_lexer": "ipython3",
      "version": "3.7.3"
    }
  },
  "nbformat": 4,
  "nbformat_minor": 0
}
